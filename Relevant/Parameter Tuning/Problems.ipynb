{
 "cells": [
  {
   "cell_type": "code",
   "execution_count": 1,
   "metadata": {},
   "outputs": [
    {
     "name": "stderr",
     "output_type": "stream",
     "text": [
      "Warning message:\n",
      "\"package 'glmertree' was built under R version 3.6.1\"Loading required package: lme4\n",
      "Warning message:\n",
      "\"package 'lme4' was built under R version 3.6.1\"Loading required package: Matrix\n",
      "Loading required package: partykit\n",
      "Warning message:\n",
      "\"package 'partykit' was built under R version 3.6.1\"Loading required package: grid\n",
      "Loading required package: libcoin\n",
      "Warning message:\n",
      "\"package 'libcoin' was built under R version 3.6.1\"Loading required package: mvtnorm\n",
      "Warning message:\n",
      "\"package 'WGCNA' was built under R version 3.6.1\"Loading required package: dynamicTreeCut\n",
      "Loading required package: fastcluster\n",
      "\n",
      "Attaching package: 'fastcluster'\n",
      "\n",
      "The following object is masked from 'package:stats':\n",
      "\n",
      "    hclust\n",
      "\n",
      "\n",
      "Registered S3 methods overwritten by 'ggplot2':\n",
      "  method         from \n",
      "  [.quosures     rlang\n",
      "  c.quosures     rlang\n",
      "  print.quosures rlang\n",
      "\n",
      "Attaching package: 'WGCNA'\n",
      "\n",
      "The following object is masked from 'package:stats':\n",
      "\n",
      "    cor\n",
      "\n",
      "Warning message:\n",
      "\"package 'pre' was built under R version 3.6.1\""
     ]
    }
   ],
   "source": [
    "source(\"../Data Generator.r\")\n",
    "source(\"../Longtree.r\")"
   ]
  },
  {
   "cell_type": "markdown",
   "metadata": {},
   "source": [
    "# The same mse problem"
   ]
  },
  {
   "cell_type": "code",
   "execution_count": 3,
   "metadata": {},
   "outputs": [
    {
     "data": {
      "text/html": [
       "83.5149458170289"
      ],
      "text/latex": [
       "83.5149458170289"
      ],
      "text/markdown": [
       "83.5149458170289"
      ],
      "text/plain": [
       "[1] 83.51495"
      ]
     },
     "metadata": {},
     "output_type": "display_data"
    }
   ],
   "source": [
    "mytree = readRDS(\"Longtree_n100.rds\")\n",
    "mytree$mse"
   ]
  },
  {
   "cell_type": "code",
   "execution_count": 4,
   "metadata": {},
   "outputs": [
    {
     "data": {
      "text/html": [
       "83.5149458170289"
      ],
      "text/latex": [
       "83.5149458170289"
      ],
      "text/markdown": [
       "83.5149458170289"
      ],
      "text/plain": [
       "[1] 83.51495"
      ]
     },
     "metadata": {},
     "output_type": "display_data"
    }
   ],
   "source": [
    "mytree = readRDS(\"Longtree_n200.rds\")\n",
    "mytree$mse"
   ]
  },
  {
   "cell_type": "code",
   "execution_count": 5,
   "metadata": {},
   "outputs": [
    {
     "data": {
      "text/html": [
       "83.5149458170289"
      ],
      "text/latex": [
       "83.5149458170289"
      ],
      "text/markdown": [
       "83.5149458170289"
      ],
      "text/plain": [
       "[1] 83.51495"
      ]
     },
     "metadata": {},
     "output_type": "display_data"
    }
   ],
   "source": [
    "mytree = readRDS(\"Longtree_n300.rds\")\n",
    "mytree$mse"
   ]
  },
  {
   "cell_type": "markdown",
   "metadata": {},
   "source": [
    "# The parameter problem"
   ]
  },
  {
   "cell_type": "markdown",
   "metadata": {},
   "source": [
    "I found that if I use the parameters recorded in the rds file to fit a tree, I do not get the same tree. For example for n=100"
   ]
  },
  {
   "cell_type": "code",
   "execution_count": 9,
   "metadata": {},
   "outputs": [],
   "source": [
    "### training, validation and test set ###\n",
    "set.seed(100)\n",
    "n = 100\n",
    "p = 400\n",
    "imp_mod = c(1,4)\n",
    "var_noise = 1\n",
    "data = sim_time(n=n,p=p,imp_mod=imp_mod, var_noise=var_noise)\n",
    "data$time2 = (data$time)^2\n",
    "\n",
    "# test set (used for testing performance using optimal parameters)\n",
    "set.seed(101)\n",
    "n_test = 100\n",
    "data_test = sim_time(n=n_test,p=p,imp_mod=imp_mod, var_noise=var_noise)\n",
    "data_test$time2 = (data_test$time)^2"
   ]
  },
  {
   "cell_type": "code",
   "execution_count": 8,
   "metadata": {},
   "outputs": [
    {
     "data": {
      "text/plain": [
       "$alpha_screen\n",
       "[1] 0.4\n",
       "\n",
       "$alpha_select\n",
       "[1] 0.2\n",
       "\n",
       "$alpha_predict\n",
       "[1] 0.2\n",
       "\n",
       "$maxdepth_factor_select\n",
       "[1] 0.5\n",
       "\n",
       "$maxdepth_factor_screen\n",
       "[1] 0.2\n",
       "\n",
       "$minsize_multiplier\n",
       "[1] 5\n",
       "\n",
       "$final_selection\n",
       "[1] \"V3\"   \"V8\"   \"V12\"  \"V54\"  \"V97\"  \"V301\"\n",
       "\n",
       "$Fuzzy\n",
       "[1] TRUE\n",
       "\n",
       "$time\n",
       "   user  system elapsed \n",
       "   9.50    0.01    9.74 \n"
      ]
     },
     "metadata": {},
     "output_type": "display_data"
    }
   ],
   "source": [
    "mytree = readRDS(\"Longtree_n100.rds\")\n",
    "mytree[3:length(mytree)] # see the parameters"
   ]
  },
  {
   "cell_type": "code",
   "execution_count": 11,
   "metadata": {},
   "outputs": [
    {
     "name": "stdout",
     "output_type": "stream",
     "text": [
      "Use Longtree_time\n"
     ]
    },
    {
     "name": "stderr",
     "output_type": "stream",
     "text": [
      "boundary (singular) fit: see ?isSingular\n",
      "boundary (singular) fit: see ?isSingular\n"
     ]
    },
    {
     "name": "stdout",
     "output_type": "stream",
     "text": [
      "after screening within modules V1 V8 V23 V78 V93 V289 V301 \n"
     ]
    },
    {
     "name": "stderr",
     "output_type": "stream",
     "text": [
      "boundary (singular) fit: see ?isSingular\n",
      "boundary (singular) fit: see ?isSingular\n"
     ]
    },
    {
     "name": "stdout",
     "output_type": "stream",
     "text": [
      "final features V1 V23 V93 V301"
     ]
    },
    {
     "data": {
      "text/plain": [
       "   user  system elapsed \n",
       "   8.61    0.12    8.98 "
      ]
     },
     "metadata": {},
     "output_type": "display_data"
    },
    {
     "ename": "ERROR",
     "evalue": "Error in predict.lmertree(mytree, newdata = data_valid, re.form = NA): object 'data_valid' not found\n",
     "output_type": "error",
     "traceback": [
      "Error in predict.lmertree(mytree, newdata = data_valid, re.form = NA): object 'data_valid' not found\nTraceback:\n",
      "1. mean((predict(mytree, newdata = data_valid, re.form = NA) - data_valid$y)^2)",
      "2. predict(mytree, newdata = data_valid, re.form = NA)",
      "3. predict.lmertree(mytree, newdata = data_valid, re.form = NA)"
     ]
    }
   ],
   "source": [
    "fixed_regress = c(\"time\",\"time2\")\n",
    "fixed_split = c(\"treatment\")\n",
    "cluster = \"patient\"\n",
    "var_select = paste(\"V\",1:p,sep=\"\")\n",
    "# Tuning parameters on the validation set: alpha,maxdepth,Fuzzy\n",
    "alpha_screen = 0.4; alpha_select = 0.2; alpha_predict = 0.2\n",
    "maxdepth_factor_select = 0.5; maxdepth_factor_screen = 0.2\n",
    "minsize_multiplier = 5\n",
    "Fuzzy=TRUE\n",
    "\n",
    "time = system.time({\n",
    "    mytree = Longtree(data,fixed_regress=fixed_regress,fixed_split=fixed_split,\n",
    "                      var_select=var_select,cluster=cluster,Fuzzy=Fuzzy,\n",
    "                      maxdepth_factor_select =  maxdepth_factor_select,\n",
    "                      maxdepth_factor_screen = maxdepth_factor_screen,\n",
    "                      minsize_multiplier = minsize_multiplier, \n",
    "                      alpha_screen = alpha_screen,\n",
    "                      alpha_select=alpha_select,alpha_predict=alpha_predict)\n",
    "})\n",
    "time # running time\n",
    "mean((predict(mytree,newdata=data_valid,re.form=NA)-data_valid$y)**2)\n",
    "# coef(mytree)\n",
    "# performance of test set\n",
    "mse = mean((predict(mytree,newdata=data_test,re.form=NA)-data_test$y)**2)\n",
    "mse\n",
    "# plot(mytree)"
   ]
  },
  {
   "cell_type": "markdown",
   "metadata": {},
   "source": [
    "The final features is not the same as what is recorded in rds file."
   ]
  }
 ],
 "metadata": {
  "kernelspec": {
   "display_name": "R",
   "language": "R",
   "name": "ir"
  },
  "language_info": {
   "codemirror_mode": "r",
   "file_extension": ".r",
   "mimetype": "text/x-r-source",
   "name": "R",
   "pygments_lexer": "r",
   "version": "3.6.0"
  }
 },
 "nbformat": 4,
 "nbformat_minor": 2
}
