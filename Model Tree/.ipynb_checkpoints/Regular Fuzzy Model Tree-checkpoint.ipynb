{
 "cells": [
  {
   "cell_type": "code",
   "execution_count": 2,
   "metadata": {},
   "outputs": [
    {
     "name": "stderr",
     "output_type": "stream",
     "text": [
      "Warning message in file(filename, \"r\", encoding = encoding):\n",
      "\"cannot open file 'simData_methods.r': No such file or directory\""
     ]
    },
    {
     "ename": "ERROR",
     "evalue": "Error in file(filename, \"r\", encoding = encoding): cannot open the connection\n",
     "output_type": "error",
     "traceback": [
      "Error in file(filename, \"r\", encoding = encoding): cannot open the connection\nTraceback:\n",
      "1. source(\"simData_methods.r\")",
      "2. file(filename, \"r\", encoding = encoding)"
     ]
    }
   ],
   "source": [
    "# install.packages(\"partykit\")\n",
    "# install.packages(\"pre\")\n",
    "library(\"partykit\")\n",
    "source(\"simData_methods.r\")\n",
    "library(\"party\")\n",
    "library(MASS)\n",
    "library(\"glmertree\")\n",
    "library(\"caret\")\n",
    "source(\"SimData.r\")\n",
    "library(\"randomForest\")\n",
    "library(\"rpart\")\n",
    "library(\"fuzzyforest\")\n",
    "library(\"WGCNA\")\n",
    "library(\"pre\")"
   ]
  },
  {
   "cell_type": "markdown",
   "metadata": {},
   "source": [
    "# Data"
   ]
  },
  {
   "cell_type": "code",
   "execution_count": 6,
   "metadata": {},
   "outputs": [
    {
     "data": {
      "text/html": [
       "<table>\n",
       "<thead><tr><th scope=col>V1</th><th scope=col>V2</th><th scope=col>V3</th><th scope=col>V4</th><th scope=col>V5</th><th scope=col>V6</th><th scope=col>V7</th><th scope=col>V8</th><th scope=col>V9</th><th scope=col>V10</th><th scope=col>...</th><th scope=col>V396</th><th scope=col>V397</th><th scope=col>V398</th><th scope=col>V399</th><th scope=col>V400</th><th scope=col>y</th><th scope=col>PC1</th><th scope=col>PC2</th><th scope=col>PC3</th><th scope=col>PC4</th></tr></thead>\n",
       "<tbody>\n",
       "\t<tr><td>-0.9193970   </td><td> 0.4416402   </td><td>-1.6874364   </td><td>-1.2282920   </td><td>-1.4719190   </td><td>-0.7258681   </td><td>-1.0007080   </td><td>-0.5809589   </td><td>-0.6480068   </td><td>-1.0717893   </td><td>...          </td><td> 1.0363352   </td><td>-0.0749961081</td><td> 0.7390165   </td><td> 1.3488629   </td><td>-1.1525995   </td><td>-12.2783192  </td><td>-0.04954696  </td><td>-0.06129212  </td><td>-0.022341952 </td><td> 0.004950145 </td></tr>\n",
       "\t<tr><td>-0.8763958   </td><td>-0.9931904   </td><td>-0.5903482   </td><td>-0.8938970   </td><td>-1.2517455   </td><td>-0.4072832   </td><td>-1.8738281   </td><td>-1.2849527   </td><td>-1.0130168   </td><td>-0.3346373   </td><td>...          </td><td>-0.1901736   </td><td>-0.9470827924</td><td>-2.1501213   </td><td>-0.2297432   </td><td> 0.4641607   </td><td> -9.5949749  </td><td>-0.05323108  </td><td> 0.01330769  </td><td> 0.005878725 </td><td> 0.011500045 </td></tr>\n",
       "\t<tr><td>-0.6046310   </td><td>-0.3771163   </td><td>-0.8634822   </td><td>-0.9587687   </td><td>-0.8106843   </td><td> 0.2184991   </td><td>-1.4998981   </td><td>-0.8083261   </td><td>-0.2937366   </td><td>-0.7714238   </td><td>...          </td><td> 1.2566406   </td><td> 0.0003758095</td><td> 0.8217849   </td><td>-1.7324848   </td><td> 0.7289325   </td><td>  7.1053112  </td><td>-0.02646940  </td><td>-0.01448974  </td><td>-0.003545707 </td><td>-0.004314163 </td></tr>\n",
       "\t<tr><td> 0.1238469   </td><td>-1.4196072   </td><td>-0.6497125   </td><td>-0.6689533   </td><td>-1.2245386   </td><td>-1.3911706   </td><td>-0.3050343   </td><td>-0.9567550   </td><td>-1.2421426   </td><td>-0.8961609   </td><td>...          </td><td> 0.8235160   </td><td>-1.5249574007</td><td> 1.6537538   </td><td>-0.6273090   </td><td> 0.4106175   </td><td>  0.8905166  </td><td>-0.04846118  </td><td>-0.08189078  </td><td> 0.039413562 </td><td> 0.015061516 </td></tr>\n",
       "\t<tr><td>-1.5415618   </td><td>-0.9090509   </td><td>-0.5699499   </td><td>-1.4404816   </td><td>-0.9707221   </td><td>-1.2020829   </td><td>-1.1336156   </td><td>-0.1288167   </td><td>-1.5646634   </td><td>-0.2275436   </td><td>...          </td><td>-1.1591249   </td><td> 0.0983516474</td><td>-0.5823098   </td><td>-0.2405078   </td><td>-1.4611472   </td><td>-14.3837753  </td><td>-0.05113828  </td><td> 0.01023937  </td><td> 0.005176026 </td><td>-0.043514047 </td></tr>\n",
       "</tbody>\n",
       "</table>\n"
      ],
      "text/latex": [
       "\\begin{tabular}{r|lllllllllllllllllllllllllllllllllllllllllllllllllllllllllllllllllllllllllllllllllllllllllllllllllllllllllllllllllllllllllllllllllllllllllllllllllllllllllllllllllllllllllllllllllllllllllllllllllllllllllllllllllllllllllllllllllllllllllllllllllllllllllllllllllllllllllllllllllllllllllllllllllllllllllllllllllllllllllllllllllllllllllllllllllllllllllllllllllllllllllllllllllllllllllllllllllllllllllllllllllllll}\n",
       " V1 & V2 & V3 & V4 & V5 & V6 & V7 & V8 & V9 & V10 & ... & V396 & V397 & V398 & V399 & V400 & y & PC1 & PC2 & PC3 & PC4\\\\\n",
       "\\hline\n",
       "\t -0.9193970    &  0.4416402    & -1.6874364    & -1.2282920    & -1.4719190    & -0.7258681    & -1.0007080    & -0.5809589    & -0.6480068    & -1.0717893    & ...           &  1.0363352    & -0.0749961081 &  0.7390165    &  1.3488629    & -1.1525995    & -12.2783192   & -0.04954696   & -0.06129212   & -0.022341952  &  0.004950145 \\\\\n",
       "\t -0.8763958    & -0.9931904    & -0.5903482    & -0.8938970    & -1.2517455    & -0.4072832    & -1.8738281    & -1.2849527    & -1.0130168    & -0.3346373    & ...           & -0.1901736    & -0.9470827924 & -2.1501213    & -0.2297432    &  0.4641607    &  -9.5949749   & -0.05323108   &  0.01330769   &  0.005878725  &  0.011500045 \\\\\n",
       "\t -0.6046310    & -0.3771163    & -0.8634822    & -0.9587687    & -0.8106843    &  0.2184991    & -1.4998981    & -0.8083261    & -0.2937366    & -0.7714238    & ...           &  1.2566406    &  0.0003758095 &  0.8217849    & -1.7324848    &  0.7289325    &   7.1053112   & -0.02646940   & -0.01448974   & -0.003545707  & -0.004314163 \\\\\n",
       "\t  0.1238469    & -1.4196072    & -0.6497125    & -0.6689533    & -1.2245386    & -1.3911706    & -0.3050343    & -0.9567550    & -1.2421426    & -0.8961609    & ...           &  0.8235160    & -1.5249574007 &  1.6537538    & -0.6273090    &  0.4106175    &   0.8905166   & -0.04846118   & -0.08189078   &  0.039413562  &  0.015061516 \\\\\n",
       "\t -1.5415618    & -0.9090509    & -0.5699499    & -1.4404816    & -0.9707221    & -1.2020829    & -1.1336156    & -0.1288167    & -1.5646634    & -0.2275436    & ...           & -1.1591249    &  0.0983516474 & -0.5823098    & -0.2405078    & -1.4611472    & -14.3837753   & -0.05113828   &  0.01023937   &  0.005176026  & -0.043514047 \\\\\n",
       "\\end{tabular}\n"
      ],
      "text/markdown": [
       "\n",
       "| V1 | V2 | V3 | V4 | V5 | V6 | V7 | V8 | V9 | V10 | ... | V396 | V397 | V398 | V399 | V400 | y | PC1 | PC2 | PC3 | PC4 |\n",
       "|---|---|---|---|---|---|---|---|---|---|---|---|---|---|---|---|---|---|---|---|---|\n",
       "| -0.9193970    |  0.4416402    | -1.6874364    | -1.2282920    | -1.4719190    | -0.7258681    | -1.0007080    | -0.5809589    | -0.6480068    | -1.0717893    | ...           |  1.0363352    | -0.0749961081 |  0.7390165    |  1.3488629    | -1.1525995    | -12.2783192   | -0.04954696   | -0.06129212   | -0.022341952  |  0.004950145  |\n",
       "| -0.8763958    | -0.9931904    | -0.5903482    | -0.8938970    | -1.2517455    | -0.4072832    | -1.8738281    | -1.2849527    | -1.0130168    | -0.3346373    | ...           | -0.1901736    | -0.9470827924 | -2.1501213    | -0.2297432    |  0.4641607    |  -9.5949749   | -0.05323108   |  0.01330769   |  0.005878725  |  0.011500045  |\n",
       "| -0.6046310    | -0.3771163    | -0.8634822    | -0.9587687    | -0.8106843    |  0.2184991    | -1.4998981    | -0.8083261    | -0.2937366    | -0.7714238    | ...           |  1.2566406    |  0.0003758095 |  0.8217849    | -1.7324848    |  0.7289325    |   7.1053112   | -0.02646940   | -0.01448974   | -0.003545707  | -0.004314163  |\n",
       "|  0.1238469    | -1.4196072    | -0.6497125    | -0.6689533    | -1.2245386    | -1.3911706    | -0.3050343    | -0.9567550    | -1.2421426    | -0.8961609    | ...           |  0.8235160    | -1.5249574007 |  1.6537538    | -0.6273090    |  0.4106175    |   0.8905166   | -0.04846118   | -0.08189078   |  0.039413562  |  0.015061516  |\n",
       "| -1.5415618    | -0.9090509    | -0.5699499    | -1.4404816    | -0.9707221    | -1.2020829    | -1.1336156    | -0.1288167    | -1.5646634    | -0.2275436    | ...           | -1.1591249    |  0.0983516474 | -0.5823098    | -0.2405078    | -1.4611472    | -14.3837753   | -0.05113828   |  0.01023937   |  0.005176026  | -0.043514047  |\n",
       "\n"
      ],
      "text/plain": [
       "  V1         V2         V3         V4         V5         V6         V7        \n",
       "1 -0.9193970  0.4416402 -1.6874364 -1.2282920 -1.4719190 -0.7258681 -1.0007080\n",
       "2 -0.8763958 -0.9931904 -0.5903482 -0.8938970 -1.2517455 -0.4072832 -1.8738281\n",
       "3 -0.6046310 -0.3771163 -0.8634822 -0.9587687 -0.8106843  0.2184991 -1.4998981\n",
       "4  0.1238469 -1.4196072 -0.6497125 -0.6689533 -1.2245386 -1.3911706 -0.3050343\n",
       "5 -1.5415618 -0.9090509 -0.5699499 -1.4404816 -0.9707221 -1.2020829 -1.1336156\n",
       "  V8         V9         V10        ... V396       V397          V398      \n",
       "1 -0.5809589 -0.6480068 -1.0717893 ...  1.0363352 -0.0749961081  0.7390165\n",
       "2 -1.2849527 -1.0130168 -0.3346373 ... -0.1901736 -0.9470827924 -2.1501213\n",
       "3 -0.8083261 -0.2937366 -0.7714238 ...  1.2566406  0.0003758095  0.8217849\n",
       "4 -0.9567550 -1.2421426 -0.8961609 ...  0.8235160 -1.5249574007  1.6537538\n",
       "5 -0.1288167 -1.5646634 -0.2275436 ... -1.1591249  0.0983516474 -0.5823098\n",
       "  V399       V400       y           PC1         PC2         PC3         \n",
       "1  1.3488629 -1.1525995 -12.2783192 -0.04954696 -0.06129212 -0.022341952\n",
       "2 -0.2297432  0.4641607  -9.5949749 -0.05323108  0.01330769  0.005878725\n",
       "3 -1.7324848  0.7289325   7.1053112 -0.02646940 -0.01448974 -0.003545707\n",
       "4 -0.6273090  0.4106175   0.8905166 -0.04846118 -0.08189078  0.039413562\n",
       "5 -0.2405078 -1.4611472 -14.3837753 -0.05113828  0.01023937  0.005176026\n",
       "  PC4         \n",
       "1  0.004950145\n",
       "2  0.011500045\n",
       "3 -0.004314163\n",
       "4  0.015061516\n",
       "5 -0.043514047"
      ]
     },
     "metadata": {},
     "output_type": "display_data"
    }
   ],
   "source": [
    "set.seed(100)\n",
    "\n",
    "# No time structure\n",
    "n = 500 # num of observations\n",
    "p = 400\n",
    "p0 = 100\n",
    "\n",
    "cor_feature = 0.8\n",
    "\n",
    "#### covariance matrix between features: it is either 0 (independent) or cor_feature ####\n",
    "cov_feature = matrix(0,nrow = p, ncol = p)\n",
    "# cov within the first three modules\n",
    "cov_star = matrix(cor_feature,nrow = p0,ncol = p0)\n",
    "diag(cov_star)=1\n",
    "# put cov_star into cov_feature\n",
    "cov_feature[1:p0,1:p0] = cov_star\n",
    "cov_feature[(p0+1):(2*p0),(p0+1):(2*p0)] = cov_star\n",
    "cov_feature[(2*p0+1):(3*p0),(2*p0+1):(3*p0)] = cov_star\n",
    "cov_feature[(3*p0+1):(4*p0),(3*p0+1):(4*p0)] = diag(p0)\n",
    "####\n",
    "\n",
    "X = mvrnorm(n = n, rep(0, p), cov_feature)\n",
    "y = f_sim(X)\n",
    "data = cbind(X,y)\n",
    "data = data.frame(data)\n",
    "\n",
    "data$PC1 = svd(X[,1:100])$u[,1] \n",
    "data$PC2 = svd(X[,101:200])$u[,1] \n",
    "data$PC3 = svd(X[,201:300])$u[,1]  \n",
    "data$PC4 = svd(X[,301:400])$u[,1] \n",
    "\n",
    "data[1:5,]"
   ]
  },
  {
   "cell_type": "code",
   "execution_count": 4,
   "metadata": {},
   "outputs": [
    {
     "data": {
      "text/html": [
       "<table>\n",
       "<thead><tr><th scope=col>V1</th><th scope=col>V2</th><th scope=col>V3</th><th scope=col>V4</th><th scope=col>V5</th><th scope=col>V6</th><th scope=col>V7</th><th scope=col>V8</th><th scope=col>V9</th><th scope=col>V10</th><th scope=col>...</th><th scope=col>V396</th><th scope=col>V397</th><th scope=col>V398</th><th scope=col>V399</th><th scope=col>V400</th><th scope=col>y_test</th><th scope=col>PC1</th><th scope=col>PC2</th><th scope=col>PC3</th><th scope=col>PC4</th></tr></thead>\n",
       "<tbody>\n",
       "\t<tr><td> 0.4270146  </td><td>-1.0986628  </td><td> 0.9695128  </td><td> 0.05067257 </td><td> 0.2933707  </td><td>-0.158750199</td><td>-0.6469059  </td><td>-0.1925699  </td><td> 0.001994361</td><td> 0.2925696  </td><td>...         </td><td> 0.02777378 </td><td>-0.3893127  </td><td>-1.27235813 </td><td>-0.3205369  </td><td>-1.1658569  </td><td> 2.8703057  </td><td>-0.01901634 </td><td>-0.02657769 </td><td>-0.03472797 </td><td>-0.18376549 </td></tr>\n",
       "\t<tr><td> 1.4783423  </td><td> 1.5687687  </td><td> 0.3395318  </td><td> 1.41773161 </td><td> 1.5570561  </td><td> 0.985733254</td><td> 1.9380964  </td><td> 0.7101339  </td><td> 2.118158414</td><td> 1.0872465  </td><td>...         </td><td> 0.14470549 </td><td>-1.0726485  </td><td>-0.66307158 </td><td>-2.0919208  </td><td>-0.2397987  </td><td>16.2539751  </td><td>-0.15900790 </td><td> 0.05910620 </td><td> 0.05938996 </td><td> 0.16591185 </td></tr>\n",
       "\t<tr><td>-0.8272478  </td><td>-0.7645924  </td><td> 0.1623561  </td><td>-0.58407534 </td><td>-1.2062563  </td><td>-0.001602162</td><td>-0.2098308  </td><td>-0.7230311  </td><td>-0.264988245</td><td>-0.6045068  </td><td>...         </td><td>-0.23756438 </td><td>-0.3953464  </td><td>-0.29654313 </td><td>-1.8518319  </td><td> 1.1843827  </td><td> 2.9703748  </td><td> 0.04866440 </td><td>-0.21312548 </td><td>-0.07288299 </td><td> 0.07949296 </td></tr>\n",
       "\t<tr><td> 0.5505366  </td><td> 0.9756962  </td><td> 1.0634336  </td><td> 0.54076689 </td><td> 1.0100161  </td><td> 0.319491349</td><td> 0.3742614  </td><td> 1.1606476  </td><td> 0.690067389</td><td> 1.2396059  </td><td>...         </td><td>-0.74284806 </td><td>-0.8449876  </td><td>-0.57396643 </td><td> 0.4396653  </td><td> 0.2075084  </td><td> 9.2597353  </td><td>-0.09070814 </td><td>-0.11690225 </td><td> 0.02298817 </td><td>-0.23059812 </td></tr>\n",
       "\t<tr><td>-0.9471237  </td><td>-1.0009572  </td><td>-1.2908256  </td><td>-0.90432577 </td><td>-0.5902960  </td><td>-1.058124260</td><td>-0.9884839  </td><td>-1.2096527  </td><td>-1.228834809</td><td>-0.4429552  </td><td>...         </td><td> 0.26090560 </td><td>-0.6559405  </td><td>-0.02617408 </td><td> 0.1419048  </td><td>-0.0436326  </td><td>-0.8451365  </td><td> 0.13982608 </td><td>-0.07485101 </td><td> 0.03310917 </td><td>-0.01816327 </td></tr>\n",
       "</tbody>\n",
       "</table>\n"
      ],
      "text/latex": [
       "\\begin{tabular}{r|lllllllllllllllllllllllllllllllllllllllllllllllllllllllllllllllllllllllllllllllllllllllllllllllllllllllllllllllllllllllllllllllllllllllllllllllllllllllllllllllllllllllllllllllllllllllllllllllllllllllllllllllllllllllllllllllllllllllllllllllllllllllllllllllllllllllllllllllllllllllllllllllllllllllllllllllllllllllllllllllllllllllllllllllllllllllllllllllllllllllllllllllllllllllllllllllllllllllllllllllllllll}\n",
       " V1 & V2 & V3 & V4 & V5 & V6 & V7 & V8 & V9 & V10 & ... & V396 & V397 & V398 & V399 & V400 & y\\_test & PC1 & PC2 & PC3 & PC4\\\\\n",
       "\\hline\n",
       "\t  0.4270146   & -1.0986628   &  0.9695128   &  0.05067257  &  0.2933707   & -0.158750199 & -0.6469059   & -0.1925699   &  0.001994361 &  0.2925696   & ...          &  0.02777378  & -0.3893127   & -1.27235813  & -0.3205369   & -1.1658569   &  2.8703057   & -0.01901634  & -0.02657769  & -0.03472797  & -0.18376549 \\\\\n",
       "\t  1.4783423   &  1.5687687   &  0.3395318   &  1.41773161  &  1.5570561   &  0.985733254 &  1.9380964   &  0.7101339   &  2.118158414 &  1.0872465   & ...          &  0.14470549  & -1.0726485   & -0.66307158  & -2.0919208   & -0.2397987   & 16.2539751   & -0.15900790  &  0.05910620  &  0.05938996  &  0.16591185 \\\\\n",
       "\t -0.8272478   & -0.7645924   &  0.1623561   & -0.58407534  & -1.2062563   & -0.001602162 & -0.2098308   & -0.7230311   & -0.264988245 & -0.6045068   & ...          & -0.23756438  & -0.3953464   & -0.29654313  & -1.8518319   &  1.1843827   &  2.9703748   &  0.04866440  & -0.21312548  & -0.07288299  &  0.07949296 \\\\\n",
       "\t  0.5505366   &  0.9756962   &  1.0634336   &  0.54076689  &  1.0100161   &  0.319491349 &  0.3742614   &  1.1606476   &  0.690067389 &  1.2396059   & ...          & -0.74284806  & -0.8449876   & -0.57396643  &  0.4396653   &  0.2075084   &  9.2597353   & -0.09070814  & -0.11690225  &  0.02298817  & -0.23059812 \\\\\n",
       "\t -0.9471237   & -1.0009572   & -1.2908256   & -0.90432577  & -0.5902960   & -1.058124260 & -0.9884839   & -1.2096527   & -1.228834809 & -0.4429552   & ...          &  0.26090560  & -0.6559405   & -0.02617408  &  0.1419048   & -0.0436326   & -0.8451365   &  0.13982608  & -0.07485101  &  0.03310917  & -0.01816327 \\\\\n",
       "\\end{tabular}\n"
      ],
      "text/markdown": [
       "\n",
       "| V1 | V2 | V3 | V4 | V5 | V6 | V7 | V8 | V9 | V10 | ... | V396 | V397 | V398 | V399 | V400 | y_test | PC1 | PC2 | PC3 | PC4 |\n",
       "|---|---|---|---|---|---|---|---|---|---|---|---|---|---|---|---|---|---|---|---|---|\n",
       "|  0.4270146   | -1.0986628   |  0.9695128   |  0.05067257  |  0.2933707   | -0.158750199 | -0.6469059   | -0.1925699   |  0.001994361 |  0.2925696   | ...          |  0.02777378  | -0.3893127   | -1.27235813  | -0.3205369   | -1.1658569   |  2.8703057   | -0.01901634  | -0.02657769  | -0.03472797  | -0.18376549  |\n",
       "|  1.4783423   |  1.5687687   |  0.3395318   |  1.41773161  |  1.5570561   |  0.985733254 |  1.9380964   |  0.7101339   |  2.118158414 |  1.0872465   | ...          |  0.14470549  | -1.0726485   | -0.66307158  | -2.0919208   | -0.2397987   | 16.2539751   | -0.15900790  |  0.05910620  |  0.05938996  |  0.16591185  |\n",
       "| -0.8272478   | -0.7645924   |  0.1623561   | -0.58407534  | -1.2062563   | -0.001602162 | -0.2098308   | -0.7230311   | -0.264988245 | -0.6045068   | ...          | -0.23756438  | -0.3953464   | -0.29654313  | -1.8518319   |  1.1843827   |  2.9703748   |  0.04866440  | -0.21312548  | -0.07288299  |  0.07949296  |\n",
       "|  0.5505366   |  0.9756962   |  1.0634336   |  0.54076689  |  1.0100161   |  0.319491349 |  0.3742614   |  1.1606476   |  0.690067389 |  1.2396059   | ...          | -0.74284806  | -0.8449876   | -0.57396643  |  0.4396653   |  0.2075084   |  9.2597353   | -0.09070814  | -0.11690225  |  0.02298817  | -0.23059812  |\n",
       "| -0.9471237   | -1.0009572   | -1.2908256   | -0.90432577  | -0.5902960   | -1.058124260 | -0.9884839   | -1.2096527   | -1.228834809 | -0.4429552   | ...          |  0.26090560  | -0.6559405   | -0.02617408  |  0.1419048   | -0.0436326   | -0.8451365   |  0.13982608  | -0.07485101  |  0.03310917  | -0.01816327  |\n",
       "\n"
      ],
      "text/plain": [
       "  V1         V2         V3         V4          V5         V6          \n",
       "1  0.4270146 -1.0986628  0.9695128  0.05067257  0.2933707 -0.158750199\n",
       "2  1.4783423  1.5687687  0.3395318  1.41773161  1.5570561  0.985733254\n",
       "3 -0.8272478 -0.7645924  0.1623561 -0.58407534 -1.2062563 -0.001602162\n",
       "4  0.5505366  0.9756962  1.0634336  0.54076689  1.0100161  0.319491349\n",
       "5 -0.9471237 -1.0009572 -1.2908256 -0.90432577 -0.5902960 -1.058124260\n",
       "  V7         V8         V9           V10        ... V396        V397      \n",
       "1 -0.6469059 -0.1925699  0.001994361  0.2925696 ...  0.02777378 -0.3893127\n",
       "2  1.9380964  0.7101339  2.118158414  1.0872465 ...  0.14470549 -1.0726485\n",
       "3 -0.2098308 -0.7230311 -0.264988245 -0.6045068 ... -0.23756438 -0.3953464\n",
       "4  0.3742614  1.1606476  0.690067389  1.2396059 ... -0.74284806 -0.8449876\n",
       "5 -0.9884839 -1.2096527 -1.228834809 -0.4429552 ...  0.26090560 -0.6559405\n",
       "  V398        V399       V400       y_test     PC1         PC2        \n",
       "1 -1.27235813 -0.3205369 -1.1658569  2.8703057 -0.01901634 -0.02657769\n",
       "2 -0.66307158 -2.0919208 -0.2397987 16.2539751 -0.15900790  0.05910620\n",
       "3 -0.29654313 -1.8518319  1.1843827  2.9703748  0.04866440 -0.21312548\n",
       "4 -0.57396643  0.4396653  0.2075084  9.2597353 -0.09070814 -0.11690225\n",
       "5 -0.02617408  0.1419048 -0.0436326 -0.8451365  0.13982608 -0.07485101\n",
       "  PC3         PC4        \n",
       "1 -0.03472797 -0.18376549\n",
       "2  0.05938996  0.16591185\n",
       "3 -0.07288299  0.07949296\n",
       "4  0.02298817 -0.23059812\n",
       "5  0.03310917 -0.01816327"
      ]
     },
     "metadata": {},
     "output_type": "display_data"
    }
   ],
   "source": [
    "# test data set\n",
    "set.seed(101)\n",
    "\n",
    "# No time structure\n",
    "n_test = 100 # num of observations\n",
    "\n",
    "X_test = mvrnorm(n = n_test, rep(0, p), cov_feature)\n",
    "y_test = f_sim(X_test)\n",
    "data_test = cbind(X_test,y_test)\n",
    "data_test = data.frame(data_test)\n",
    "\n",
    "# add PC\n",
    "data_test$PC1 = svd(X_test[,1:100])$u[,1]  \n",
    "data_test$PC2 = svd(X_test[,101:200])$u[,1] \n",
    "data_test$PC3 = svd(X_test[,201:300])$u[,1] \n",
    "data_test$PC4 = svd(X_test[,301:400])$u[,1] \n",
    "\n",
    "data_test[1:5,]"
   ]
  },
  {
   "cell_type": "code",
   "execution_count": 7,
   "metadata": {},
   "outputs": [],
   "source": [
    "# Methods for extracting names of splitting features used in a tree\n",
    "# tree: a tree object; data: the train or test set\n",
    "get_split_names = function(tree,data){\n",
    "    paths <- pre:::list.rules(tree, removecomplements = FALSE)\n",
    "    vnames <- names(data)\n",
    "    return(vnames[sapply(sapply(vnames, FUN = function(x) grep(x, paths)), length) > 0])\n",
    "}"
   ]
  },
  {
   "cell_type": "markdown",
   "metadata": {},
   "source": [
    "# Fuzzy model tree"
   ]
  },
  {
   "cell_type": "code",
   "execution_count": 26,
   "metadata": {},
   "outputs": [],
   "source": [
    "# regress_var = paste(\"PC\",c(2),sep=\"\")\n",
    "# regress_var = paste(\"V\",1:100,sep=\"\")\n",
    "# regress_var = paste(\"V\",c(1,2,3,301,302,303),sep=\"\")\n",
    "# regress_var = paste(\"V\",c(1,2,3,70,52,185,285,266,301,302,303),sep=\"\")\n",
    "\n",
    "# split_var = paste(\"V\",100:200,sep=\"\") # For demo: CHANGE 101 TO 100 and alpha=0.5\n",
    "# split_var = paste(\"V\",101:100,sep=\"\")\n",
    "# split_var = paste(\"V\",c(1,2,3,70,52,185,285,266,301,302,303),sep=\"\")\n",
    "\n",
    "# Formula = as.formula(paste(\"y~\",paste(regress_var,collapse = \"+\"), \"|\",\n",
    "#                          paste(split_var,collapse = \"+\")))\n",
    "\n",
    "# If just use regular tree (not model tree,no regress_var): miss 302 and 303!\n",
    "split_var = paste(\"V\",1:400,sep=\"\")\n",
    "Formula = as.formula(paste(\"y~\",paste(split_var,collapse=\"+\")))\n",
    "\n",
    "# Formula"
   ]
  },
  {
   "cell_type": "code",
   "execution_count": 32,
   "metadata": {},
   "outputs": [],
   "source": [
    "# If specify regress_var, the following is the coeffiently of them\n",
    "# If not (regular tree, no model), it returns the average of its leaves\n",
    "# coef(mytree) "
   ]
  },
  {
   "cell_type": "code",
   "execution_count": 14,
   "metadata": {},
   "outputs": [
    {
     "data": {
      "text/html": [
       "'V2+V3+V30+V302+V303'"
      ],
      "text/latex": [
       "'V2+V3+V30+V302+V303'"
      ],
      "text/markdown": [
       "'V2+V3+V30+V302+V303'"
      ],
      "text/plain": [
       "[1] \"V2+V3+V30+V302+V303\""
      ]
     },
     "metadata": {},
     "output_type": "display_data"
    }
   ],
   "source": [
    "# test\n",
    "# tmp = get_split_names(mytree,data) # can be split_var\n",
    "# paste(tmp,collapse = \"+\")"
   ]
  },
  {
   "cell_type": "code",
   "execution_count": 27,
   "metadata": {},
   "outputs": [
    {
     "data": {
      "text/plain": [
       "   user  system elapsed \n",
       "   2.58    0.11    3.35 "
      ]
     },
     "metadata": {},
     "output_type": "display_data"
    },
    {
     "data": {
      "text/html": [
       "66.6835979630197"
      ],
      "text/latex": [
       "66.6835979630197"
      ],
      "text/markdown": [
       "66.6835979630197"
      ],
      "text/plain": [
       "[1] 66.6836"
      ]
     },
     "metadata": {},
     "output_type": "display_data"
    },
    {
     "data": {
      "text/html": [
       "<ol class=list-inline>\n",
       "\t<li>'V1'</li>\n",
       "\t<li>'V2'</li>\n",
       "\t<li>'V3'</li>\n",
       "\t<li>'V30'</li>\n",
       "\t<li>'V301'</li>\n",
       "</ol>\n"
      ],
      "text/latex": [
       "\\begin{enumerate*}\n",
       "\\item 'V1'\n",
       "\\item 'V2'\n",
       "\\item 'V3'\n",
       "\\item 'V30'\n",
       "\\item 'V301'\n",
       "\\end{enumerate*}\n"
      ],
      "text/markdown": [
       "1. 'V1'\n",
       "2. 'V2'\n",
       "3. 'V3'\n",
       "4. 'V30'\n",
       "5. 'V301'\n",
       "\n",
       "\n"
      ],
      "text/plain": [
       "[1] \"V1\"   \"V2\"   \"V3\"   \"V30\"  \"V301\""
      ]
     },
     "metadata": {},
     "output_type": "display_data"
    },
    {
     "data": {
      "image/png": "[encoded data removed]",
      "text/plain": [
       "plot without title"
      ]
     },
     "metadata": {},
     "output_type": "display_data"
    }
   ],
   "source": [
    "# Note: the parameters of lmtree in \"...\" will \n",
    "# directly go into mob_control like alpha and maxdepth, minsize\n",
    "system.time({\n",
    "# the smaller the alpha, the deeper the tree. alpha =0.05 by default\n",
    "# mytree = lmtree(Formula,data = data,minsize = 10,alpha = 0.2,maxdepth=5) # demo\n",
    "mytree = lmtree(Formula,data = data,minsize = 10)\n",
    "})\n",
    "\n",
    "# mse on test set\n",
    "mean((predict(mytree,newdata=data_test)-data_test$y_test)**2)\n",
    "\n",
    "# the selected features\n",
    "get_split_names(mytree,data)\n",
    "\n",
    "plot(mytree)"
   ]
  },
  {
   "cell_type": "markdown",
   "metadata": {},
   "source": [
    "# Other models for comparison"
   ]
  },
  {
   "cell_type": "code",
   "execution_count": 10,
   "metadata": {},
   "outputs": [],
   "source": [
    "# the following tree method use one of formulae below\n",
    "\n",
    "# use all covariates \n",
    "var = paste(\"V\",1:400,sep=\"\")\n",
    "\n",
    "# only use important ones, which means cheating\n",
    "# var = paste(\"V\",c(1,2,3,301,302,303),sep=\"\")\n",
    "\n",
    "# use part of important ones\n",
    "# var = paste(\"V\",c(2,301,303),sep=\"\") # part of important regress\n",
    "\n",
    "# perturbation: mixture of correct and incorrect\n",
    "# var = paste(\"V\",c(1,301,99,100,307,299),sep=\"\")\n",
    "\n",
    "Formula = as.formula(paste(\"y~\",paste(var,collapse = \"+\")))"
   ]
  },
  {
   "cell_type": "code",
   "execution_count": 11,
   "metadata": {},
   "outputs": [
    {
     "data": {
      "text/plain": [
       "   user  system elapsed \n",
       "   0.61    0.08    0.88 "
      ]
     },
     "metadata": {},
     "output_type": "display_data"
    },
    {
     "data": {
      "text/html": [
       "73.4652659284361"
      ],
      "text/latex": [
       "73.4652659284361"
      ],
      "text/markdown": [
       "73.4652659284361"
      ],
      "text/plain": [
       "[1] 73.46527"
      ]
     },
     "metadata": {},
     "output_type": "display_data"
    },
    {
     "data": {
      "image/png": "[encoded data removed]",
      "text/plain": [
       "plot without title"
      ]
     },
     "metadata": {},
     "output_type": "display_data"
    }
   ],
   "source": [
    "# ctree:  conditional inference framework.\n",
    "system.time({c_tree <- ctree(\n",
    "  Formula, \n",
    "  data = data)\n",
    "})\n",
    "\n",
    "\n",
    "# To see the importance of features in c_tree, run this instead\n",
    "# system.time({c_tree <- train(\n",
    "#   Formula, \n",
    "#   data = data,method=\"ctree\")\n",
    "# })\n",
    "# varImp(c_tree)\n",
    "\n",
    "plot(c_tree,main = \"conditional inference\")\n",
    "\n",
    "# mean square error\n",
    "mean((predict(c_tree,newdata=data_test)-data_test$y_test)**2)\n"
   ]
  },
  {
   "cell_type": "code",
   "execution_count": 64,
   "metadata": {
    "scrolled": true
   },
   "outputs": [
    {
     "data": {
      "text/plain": [
       "   user  system elapsed \n",
       "  54.55    4.83   63.86 "
      ]
     },
     "metadata": {},
     "output_type": "display_data"
    },
    {
     "data": {
      "text/plain": [
       "loess r-squared variable importance\n",
       "\n",
       "  only 20 most important variables shown (out of 400)\n",
       "\n",
       "    Overall\n",
       "V3   100.00\n",
       "V2    99.75\n",
       "V1    94.43\n",
       "V23   87.70\n",
       "V10   87.14\n",
       "V43   86.12\n",
       "V92   84.73\n",
       "V52   84.71\n",
       "V87   84.71\n",
       "V32   84.28\n",
       "V33   84.23\n",
       "V84   84.11\n",
       "V90   84.09\n",
       "V51   83.95\n",
       "V99   83.60\n",
       "V93   83.20\n",
       "V7    82.92\n",
       "V65   82.66\n",
       "V61   82.62\n",
       "V42   82.60"
      ]
     },
     "metadata": {},
     "output_type": "display_data"
    }
   ],
   "source": [
    "# To see the importance of features in c_tree, run this instead\n",
    "# system.time({c_tree <- train(\n",
    "#   Formula, \n",
    "#   data = data,method=\"ctree\")\n",
    "# })\n",
    "# varImp(c_tree)"
   ]
  },
  {
   "cell_type": "markdown",
   "metadata": {},
   "source": [
    "For Fuzzy Forest\n",
    "* The features I feed it cannot be too small (cannot be 6), or FF will raise an error\n",
    "* When I use all the correct features and some other features (but not 1:400),\n",
    "sometimes it is worse than 1:400 case, which is strange."
   ]
  },
  {
   "cell_type": "code",
   "execution_count": 25,
   "metadata": {},
   "outputs": [
    {
     "name": "stdout",
     "output_type": "stream",
     "text": [
      "     mergeCloseModules: less than two proper modules.\n",
      "      ..color levels are 0, 1\n",
      "      ..there is nothing to merge.\n"
     ]
    },
    {
     "name": "stderr",
     "output_type": "stream",
     "text": [
      "Warning message in ff.default(X, y, Z, module_membership, screen_control, select_control, :\n",
      "\"ncol(X)*keep_fraction < number_selected\n",
      "number_selected will be set to floor(ncol(X)*keep_fraction)\""
     ]
    },
    {
     "data": {
      "text/plain": [
       "   user  system elapsed \n",
       "  28.94    0.65   37.79 "
      ]
     },
     "metadata": {},
     "output_type": "display_data"
    },
    {
     "data": {
      "text/html": [
       "72.3625582073823"
      ],
      "text/latex": [
       "72.3625582073823"
      ],
      "text/markdown": [
       "72.3625582073823"
      ],
      "text/plain": [
       "[1] 72.36256"
      ]
     },
     "metadata": {},
     "output_type": "display_data"
    },
    {
     "data": {
      "image/png": "[encoded data removed]",
      "text/plain": [
       "Plot with title \"FF Variable Importance\""
      ]
     },
     "metadata": {},
     "output_type": "display_data"
    }
   ],
   "source": [
    "# Fuzzy Forest\n",
    "# fuzzy forest\n",
    "# Fuzzy Forest\n",
    "# params is stored in xxx_control object\n",
    "# power: belta (I choose it without much care)\n",
    "WGCNA_params = WGCNA_control(power=3,TOMType=\"unsigned\",minModuleSize=30,\n",
    "                            numericLabels=TRUE,pamRespectsDendro=FALSE)\n",
    "\n",
    "mtry_factor     = 1 # mtry = sqrt(p)*mtry_factor; mtry is the num in subspace method\n",
    "drop_fraction   = 0.25 # drop xxx in each iteration of RFE-RF\n",
    "number_selected = 8 # we want 10 out of all features\n",
    "keep_fraction   = 0.05 # keep xxx for each module\n",
    "min_ntree        = 500 # used for calculating ntree\n",
    "ntree_factor    = 5 # used for calculating ntree\n",
    "final_ntree     = 500 # RF in selecting step\n",
    "\n",
    "screen_params = screen_control(drop_fraction = drop_fraction,\n",
    "                              keep_fraction  = keep_fraction,\n",
    "                              min_ntree      = min_ntree,\n",
    "                              mtry_factor    = mtry_factor,\n",
    "                              ntree_factor   = ntree_factor)\n",
    "\n",
    "select_params = select_control(drop_fraction  = drop_fraction,\n",
    "                              number_selected = number_selected,\n",
    "                              min_ntree       = min_ntree,\n",
    "                              mtry_factor     = mtry_factor,\n",
    "                              ntree_factor    = ntree_factor)    \n",
    "\n",
    "# var = paste(\"V\",c(1:50,301,302,303),sep=\"\")\n",
    "# var = paste(\"V\",1:400,sep=\"\")\n",
    "Formula = as.formula(paste(\"y~\",paste(var,collapse = \"+\")))\n",
    "\n",
    "# a \"fuzzy_forest\" object\n",
    "system.time({\n",
    "set.seed(20)\n",
    "wff_fit = wff(Formula,data = data,WGCNA_params = WGCNA_params,\n",
    "             screen_params = screen_params,\n",
    "             select_params = select_params,\n",
    "             final_ntree = final_ntree)\n",
    "})\n",
    "\n",
    "mean((predict(wff_fit,new_data=data_test[,1:400])-data_test$y_test)**2)\n",
    "varImpPlot(wff_fit$final_rf,type=2,main=\"FF Variable Importance\")"
   ]
  },
  {
   "cell_type": "code",
   "execution_count": 13,
   "metadata": {},
   "outputs": [
    {
     "data": {
      "text/plain": [
       "   user  system elapsed \n",
       "  25.85    0.43   33.34 "
      ]
     },
     "metadata": {},
     "output_type": "display_data"
    },
    {
     "data": {
      "text/html": [
       "44.2569094643261"
      ],
      "text/latex": [
       "44.2569094643261"
      ],
      "text/markdown": [
       "44.2569094643261"
      ],
      "text/plain": [
       "[1] 44.25691"
      ]
     },
     "metadata": {},
     "output_type": "display_data"
    },
    {
     "data": {
      "image/png": "[encoded data removed]",
      "text/plain": [
       "Plot with title \"RF Variable Importance\""
      ]
     },
     "metadata": {},
     "output_type": "display_data"
    }
   ],
   "source": [
    "# Random Forest\n",
    "system.time({\n",
    "    set.seed(20)\n",
    "    rf <- randomForest(data[,1:400],data$y)\n",
    "})\n",
    "mean((predict(rf,newdata=data_test[,1:400])-data_test$y_test)**2)\n",
    "varImpPlot(rf,type=2,main=\"RF Variable Importance\")"
   ]
  },
  {
   "cell_type": "code",
   "execution_count": null,
   "metadata": {},
   "outputs": [],
   "source": []
  }
 ],
 "metadata": {
  "kernelspec": {
   "display_name": "R",
   "language": "R",
   "name": "ir"
  },
  "language_info": {
   "codemirror_mode": "r",
   "file_extension": ".r",
   "mimetype": "text/x-r-source",
   "name": "R",
   "pygments_lexer": "r",
   "version": "3.6.0"
  }
 },
 "nbformat": 4,
 "nbformat_minor": 2
}
