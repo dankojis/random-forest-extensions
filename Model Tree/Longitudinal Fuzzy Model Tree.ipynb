{
 "cells": [
  {
   "cell_type": "markdown",
   "metadata": {},
   "source": [
    "To improve prediction, I use the features in the same module for splitting variables and use principal components (maybe incorporate time??) for regressors!"
   ]
  },
  {
   "cell_type": "code",
   "execution_count": 1,
   "metadata": {},
   "outputs": [
    {
     "name": "stderr",
     "output_type": "stream",
     "text": [
      "Warning message:\n",
      "\"package 'party' was built under R version 3.6.1\"Loading required package: grid\n",
      "Loading required package: mvtnorm\n",
      "Loading required package: modeltools\n",
      "Loading required package: stats4\n",
      "Loading required package: strucchange\n",
      "Warning message:\n",
      "\"package 'strucchange' was built under R version 3.6.1\"Loading required package: zoo\n",
      "\n",
      "Attaching package: 'zoo'\n",
      "\n",
      "The following objects are masked from 'package:base':\n",
      "\n",
      "    as.Date, as.Date.numeric\n",
      "\n",
      "Loading required package: sandwich\n",
      "Warning message:\n",
      "\"package 'sandwich' was built under R version 3.6.1\"Warning message:\n",
      "\"package 'glmertree' was built under R version 3.6.1\"Loading required package: lme4\n",
      "Warning message:\n",
      "\"package 'lme4' was built under R version 3.6.1\"Loading required package: Matrix\n",
      "\n",
      "Attaching package: 'lme4'\n",
      "\n",
      "The following object is masked from 'package:modeltools':\n",
      "\n",
      "    refit\n",
      "\n",
      "Loading required package: partykit\n",
      "Warning message:\n",
      "\"package 'partykit' was built under R version 3.6.1\"Loading required package: libcoin\n",
      "Warning message:\n",
      "\"package 'libcoin' was built under R version 3.6.1\"\n",
      "Attaching package: 'partykit'\n",
      "\n",
      "The following objects are masked from 'package:party':\n",
      "\n",
      "    cforest, ctree, ctree_control, edge_simple, mob, mob_control,\n",
      "    node_barplot, node_bivplot, node_boxplot, node_inner, node_surv,\n",
      "    node_terminal, varimp\n",
      "\n",
      "Loading required package: lattice\n",
      "Loading required package: ggplot2\n",
      "Registered S3 methods overwritten by 'ggplot2':\n",
      "  method         from \n",
      "  [.quosures     rlang\n",
      "  c.quosures     rlang\n",
      "  print.quosures rlang\n",
      "randomForest 4.6-14\n",
      "Type rfNews() to see new features/changes/bug fixes.\n",
      "\n",
      "Attaching package: 'randomForest'\n",
      "\n",
      "The following object is masked from 'package:ggplot2':\n",
      "\n",
      "    margin\n",
      "\n",
      "Warning message:\n",
      "\"package 'fuzzyforest' was built under R version 3.6.1\"\n",
      "Warning message:\n",
      "\"package 'WGCNA' was built under R version 3.6.1\"Loading required package: dynamicTreeCut\n",
      "Loading required package: fastcluster\n",
      "\n",
      "Attaching package: 'fastcluster'\n",
      "\n",
      "The following object is masked from 'package:stats':\n",
      "\n",
      "    hclust\n",
      "\n",
      "\n",
      "Attaching package: 'WGCNA'\n",
      "\n",
      "The following object is masked from 'package:stats':\n",
      "\n",
      "    cor\n",
      "\n"
     ]
    }
   ],
   "source": [
    "library(\"party\")\n",
    "library(MASS)\n",
    "library(\"glmertree\")\n",
    "library(\"caret\")\n",
    "source(\"SimData.r\")\n",
    "library(\"randomForest\")\n",
    "library(\"rpart\")\n",
    "library(\"fuzzyforest\")\n",
    "library(\"WGCNA\")"
   ]
  },
  {
   "cell_type": "markdown",
   "metadata": {},
   "source": [
    "# Data"
   ]
  },
  {
   "cell_type": "code",
   "execution_count": 2,
   "metadata": {},
   "outputs": [
    {
     "data": {
      "text/html": [
       "<table>\n",
       "<thead><tr><th scope=col>V1</th><th scope=col>V2</th><th scope=col>V3</th><th scope=col>V4</th><th scope=col>V5</th><th scope=col>V6</th><th scope=col>V7</th><th scope=col>V8</th><th scope=col>V9</th><th scope=col>V10</th><th scope=col>...</th><th scope=col>V397</th><th scope=col>V398</th><th scope=col>V399</th><th scope=col>V400</th><th scope=col>y</th><th scope=col>patient</th><th scope=col>PC1</th><th scope=col>PC2</th><th scope=col>PC3</th><th scope=col>PC4</th></tr></thead>\n",
       "<tbody>\n",
       "\t<tr><td> 0.4041948   </td><td>-0.1157621   </td><td>-0.8282505   </td><td>-0.2551767   </td><td> 0.7114005   </td><td> 0.09327738  </td><td> 0.4703178   </td><td>-0.5625359   </td><td> 0.71595493  </td><td> 0.1898496   </td><td>...          </td><td>-0.5817907   </td><td> 0.31863009  </td><td> 0.1169713   </td><td> 0.88678481  </td><td> -2.680183   </td><td>1            </td><td>-0.003542393 </td><td>-0.0053983048</td><td>-0.021006464 </td><td>-0.04368350  </td></tr>\n",
       "\t<tr><td>-0.5048507   </td><td>-1.1607588   </td><td>-0.9535845   </td><td>-1.1433429   </td><td>-0.3331617   </td><td>-1.11665992  </td><td>-0.4615737   </td><td>-1.5207829   </td><td> 0.02850286  </td><td>-0.3527653   </td><td>...          </td><td>-1.6737887   </td><td> 0.91176834  </td><td>-0.5207258   </td><td> 0.08539332  </td><td>-11.353485   </td><td>1            </td><td> 0.036431670 </td><td>-0.0008289507</td><td>-0.048923709 </td><td>-0.01565303  </td></tr>\n",
       "\t<tr><td>-0.8002010   </td><td>-0.8082677   </td><td>-1.0642596   </td><td>-1.0390025   </td><td>-0.5794711   </td><td>-0.98738083  </td><td>-0.5376431   </td><td>-1.4163408   </td><td>-0.22285559  </td><td>-0.4874867   </td><td>...          </td><td>-2.4876058   </td><td> 0.85579524  </td><td> 0.1344519   </td><td>-0.31106741  </td><td> -9.402297   </td><td>1            </td><td> 0.036749693 </td><td>-0.0466865136</td><td>-0.046991087 </td><td>-0.02350035  </td></tr>\n",
       "\t<tr><td>-0.9136394   </td><td>-1.3453939   </td><td>-1.2412924   </td><td>-0.5843280   </td><td>-0.7852858   </td><td>-1.10955238  </td><td>-1.0380377   </td><td>-1.3915048   </td><td>-0.74088698  </td><td>-0.3579343   </td><td>...          </td><td>-3.0802759   </td><td> 0.76572763  </td><td>-0.3152833   </td><td> 0.01155116  </td><td> -2.714342   </td><td>1            </td><td> 0.045986423 </td><td>-0.0245292453</td><td> 0.003867004 </td><td>-0.02910438  </td></tr>\n",
       "\t<tr><td>-1.1862461   </td><td>-0.8985310   </td><td>-1.1362628   </td><td>-0.5670641   </td><td>-0.4920586   </td><td>-0.39728046  </td><td>-0.6302260   </td><td>-0.6027598   </td><td>-0.23438185  </td><td>-0.3974606   </td><td>...          </td><td>-2.9496439   </td><td> 0.05246792  </td><td>-0.7299419   </td><td>-0.76754000  </td><td> -8.588217   </td><td>1            </td><td> 0.032324774 </td><td>-0.0163962064</td><td> 0.012075129 </td><td>-0.01523007  </td></tr>\n",
       "\t<tr><td> 0.7559472   </td><td> 2.1693698   </td><td> 1.1034058   </td><td> 1.9401066   </td><td> 0.6839483   </td><td> 1.12735727  </td><td> 1.5714702   </td><td> 1.5045449   </td><td> 1.51050327  </td><td> 1.6902715   </td><td>...          </td><td> 0.2431390   </td><td>-1.33757722  </td><td>-0.2405078   </td><td>-0.62730903  </td><td> 20.835334   </td><td>2            </td><td>-0.078646804 </td><td> 0.0094518451</td><td> 0.056310078 </td><td>-0.04234840  </td></tr>\n",
       "</tbody>\n",
       "</table>\n"
      ],
      "text/latex": [
       "\\begin{tabular}{r|llllllllllllllllllllllllllllllllllllllllllllllllllllllllllllllllllllllllllllllllllllllllllllllllllllllllllllllllllllllllllllllllllllllllllllllllllllllllllllllllllllllllllllllllllllllllllllllllllllllllllllllllllllllllllllllllllllllllllllllllllllllllllllllllllllllllllllllllllllllllllllllllllllllllllllllllllllllllllllllllllllllllllllllllllllllllllllllllllllllllllllllllllllllllllllllllllllllllllllllllllllll}\n",
       " V1 & V2 & V3 & V4 & V5 & V6 & V7 & V8 & V9 & V10 & ... & V397 & V398 & V399 & V400 & y & patient & PC1 & PC2 & PC3 & PC4\\\\\n",
       "\\hline\n",
       "\t  0.4041948    & -0.1157621    & -0.8282505    & -0.2551767    &  0.7114005    &  0.09327738   &  0.4703178    & -0.5625359    &  0.71595493   &  0.1898496    & ...           & -0.5817907    &  0.31863009   &  0.1169713    &  0.88678481   &  -2.680183    & 1             & -0.003542393  & -0.0053983048 & -0.021006464  & -0.04368350  \\\\\n",
       "\t -0.5048507    & -1.1607588    & -0.9535845    & -1.1433429    & -0.3331617    & -1.11665992   & -0.4615737    & -1.5207829    &  0.02850286   & -0.3527653    & ...           & -1.6737887    &  0.91176834   & -0.5207258    &  0.08539332   & -11.353485    & 1             &  0.036431670  & -0.0008289507 & -0.048923709  & -0.01565303  \\\\\n",
       "\t -0.8002010    & -0.8082677    & -1.0642596    & -1.0390025    & -0.5794711    & -0.98738083   & -0.5376431    & -1.4163408    & -0.22285559   & -0.4874867    & ...           & -2.4876058    &  0.85579524   &  0.1344519    & -0.31106741   &  -9.402297    & 1             &  0.036749693  & -0.0466865136 & -0.046991087  & -0.02350035  \\\\\n",
       "\t -0.9136394    & -1.3453939    & -1.2412924    & -0.5843280    & -0.7852858    & -1.10955238   & -1.0380377    & -1.3915048    & -0.74088698   & -0.3579343    & ...           & -3.0802759    &  0.76572763   & -0.3152833    &  0.01155116   &  -2.714342    & 1             &  0.045986423  & -0.0245292453 &  0.003867004  & -0.02910438  \\\\\n",
       "\t -1.1862461    & -0.8985310    & -1.1362628    & -0.5670641    & -0.4920586    & -0.39728046   & -0.6302260    & -0.6027598    & -0.23438185   & -0.3974606    & ...           & -2.9496439    &  0.05246792   & -0.7299419    & -0.76754000   &  -8.588217    & 1             &  0.032324774  & -0.0163962064 &  0.012075129  & -0.01523007  \\\\\n",
       "\t  0.7559472    &  2.1693698    &  1.1034058    &  1.9401066    &  0.6839483    &  1.12735727   &  1.5714702    &  1.5045449    &  1.51050327   &  1.6902715    & ...           &  0.2431390    & -1.33757722   & -0.2405078    & -0.62730903   &  20.835334    & 2             & -0.078646804  &  0.0094518451 &  0.056310078  & -0.04234840  \\\\\n",
       "\\end{tabular}\n"
      ],
      "text/markdown": [
       "\n",
       "| V1 | V2 | V3 | V4 | V5 | V6 | V7 | V8 | V9 | V10 | ... | V397 | V398 | V399 | V400 | y | patient | PC1 | PC2 | PC3 | PC4 |\n",
       "|---|---|---|---|---|---|---|---|---|---|---|---|---|---|---|---|---|---|---|---|---|\n",
       "|  0.4041948    | -0.1157621    | -0.8282505    | -0.2551767    |  0.7114005    |  0.09327738   |  0.4703178    | -0.5625359    |  0.71595493   |  0.1898496    | ...           | -0.5817907    |  0.31863009   |  0.1169713    |  0.88678481   |  -2.680183    | 1             | -0.003542393  | -0.0053983048 | -0.021006464  | -0.04368350   |\n",
       "| -0.5048507    | -1.1607588    | -0.9535845    | -1.1433429    | -0.3331617    | -1.11665992   | -0.4615737    | -1.5207829    |  0.02850286   | -0.3527653    | ...           | -1.6737887    |  0.91176834   | -0.5207258    |  0.08539332   | -11.353485    | 1             |  0.036431670  | -0.0008289507 | -0.048923709  | -0.01565303   |\n",
       "| -0.8002010    | -0.8082677    | -1.0642596    | -1.0390025    | -0.5794711    | -0.98738083   | -0.5376431    | -1.4163408    | -0.22285559   | -0.4874867    | ...           | -2.4876058    |  0.85579524   |  0.1344519    | -0.31106741   |  -9.402297    | 1             |  0.036749693  | -0.0466865136 | -0.046991087  | -0.02350035   |\n",
       "| -0.9136394    | -1.3453939    | -1.2412924    | -0.5843280    | -0.7852858    | -1.10955238   | -1.0380377    | -1.3915048    | -0.74088698   | -0.3579343    | ...           | -3.0802759    |  0.76572763   | -0.3152833    |  0.01155116   |  -2.714342    | 1             |  0.045986423  | -0.0245292453 |  0.003867004  | -0.02910438   |\n",
       "| -1.1862461    | -0.8985310    | -1.1362628    | -0.5670641    | -0.4920586    | -0.39728046   | -0.6302260    | -0.6027598    | -0.23438185   | -0.3974606    | ...           | -2.9496439    |  0.05246792   | -0.7299419    | -0.76754000   |  -8.588217    | 1             |  0.032324774  | -0.0163962064 |  0.012075129  | -0.01523007   |\n",
       "|  0.7559472    |  2.1693698    |  1.1034058    |  1.9401066    |  0.6839483    |  1.12735727   |  1.5714702    |  1.5045449    |  1.51050327   |  1.6902715    | ...           |  0.2431390    | -1.33757722   | -0.2405078    | -0.62730903   |  20.835334    | 2             | -0.078646804  |  0.0094518451 |  0.056310078  | -0.04234840   |\n",
       "\n"
      ],
      "text/plain": [
       "  V1         V2         V3         V4         V5         V6          V7        \n",
       "1  0.4041948 -0.1157621 -0.8282505 -0.2551767  0.7114005  0.09327738  0.4703178\n",
       "2 -0.5048507 -1.1607588 -0.9535845 -1.1433429 -0.3331617 -1.11665992 -0.4615737\n",
       "3 -0.8002010 -0.8082677 -1.0642596 -1.0390025 -0.5794711 -0.98738083 -0.5376431\n",
       "4 -0.9136394 -1.3453939 -1.2412924 -0.5843280 -0.7852858 -1.10955238 -1.0380377\n",
       "5 -1.1862461 -0.8985310 -1.1362628 -0.5670641 -0.4920586 -0.39728046 -0.6302260\n",
       "6  0.7559472  2.1693698  1.1034058  1.9401066  0.6839483  1.12735727  1.5714702\n",
       "  V8         V9          V10        ... V397       V398        V399      \n",
       "1 -0.5625359  0.71595493  0.1898496 ... -0.5817907  0.31863009  0.1169713\n",
       "2 -1.5207829  0.02850286 -0.3527653 ... -1.6737887  0.91176834 -0.5207258\n",
       "3 -1.4163408 -0.22285559 -0.4874867 ... -2.4876058  0.85579524  0.1344519\n",
       "4 -1.3915048 -0.74088698 -0.3579343 ... -3.0802759  0.76572763 -0.3152833\n",
       "5 -0.6027598 -0.23438185 -0.3974606 ... -2.9496439  0.05246792 -0.7299419\n",
       "6  1.5045449  1.51050327  1.6902715 ...  0.2431390 -1.33757722 -0.2405078\n",
       "  V400        y          patient PC1          PC2           PC3         \n",
       "1  0.88678481  -2.680183 1       -0.003542393 -0.0053983048 -0.021006464\n",
       "2  0.08539332 -11.353485 1        0.036431670 -0.0008289507 -0.048923709\n",
       "3 -0.31106741  -9.402297 1        0.036749693 -0.0466865136 -0.046991087\n",
       "4  0.01155116  -2.714342 1        0.045986423 -0.0245292453  0.003867004\n",
       "5 -0.76754000  -8.588217 1        0.032324774 -0.0163962064  0.012075129\n",
       "6 -0.62730903  20.835334 2       -0.078646804  0.0094518451  0.056310078\n",
       "  PC4        \n",
       "1 -0.04368350\n",
       "2 -0.01565303\n",
       "3 -0.02350035\n",
       "4 -0.02910438\n",
       "5 -0.01523007\n",
       "6 -0.04234840"
      ]
     },
     "metadata": {},
     "output_type": "display_data"
    }
   ],
   "source": [
    "# training data\n",
    "n <- 100 # number of patients\n",
    "T <-  5 # number of observations per patients\n",
    "\n",
    "set.seed(100)\n",
    "\n",
    "data <- as.data.frame(sim_3(n, T)) \n",
    "colnames(data)[401] <- \"y\"\n",
    "\n",
    "\n",
    "# add patient/cluster information\n",
    "for (i in 1:n){\n",
    "    data$patient[(1+(i-1)*T):(i*T)] = rep(i,T)\n",
    "}\n",
    "\n",
    "# add first PC for each module\n",
    "data_mat = data[,1:400]\n",
    "data$PC1 = svd(data_mat[,1:100])$u[,1] \n",
    "data$PC2 = svd(data_mat[,101:200])$u[,1] \n",
    "data$PC3 = svd(data_mat[,201:300])$u[,1]  \n",
    "data$PC4 = svd(data_mat[,301:400])$u[,1] \n",
    "\n",
    "\n",
    "data[1:6,]"
   ]
  },
  {
   "cell_type": "code",
   "execution_count": 3,
   "metadata": {},
   "outputs": [
    {
     "data": {
      "text/html": [
       "<table>\n",
       "<thead><tr><th scope=col>V1</th><th scope=col>V2</th><th scope=col>V3</th><th scope=col>V4</th><th scope=col>V5</th><th scope=col>V6</th><th scope=col>V7</th><th scope=col>V8</th><th scope=col>V9</th><th scope=col>V10</th><th scope=col>...</th><th scope=col>V397</th><th scope=col>V398</th><th scope=col>V399</th><th scope=col>V400</th><th scope=col>y</th><th scope=col>patient</th><th scope=col>PC1</th><th scope=col>PC2</th><th scope=col>PC3</th><th scope=col>PC4</th></tr></thead>\n",
       "<tbody>\n",
       "\t<tr><td> 0.2060153  </td><td> 0.64024620 </td><td> 0.34032334 </td><td> 1.05586322 </td><td> 1.5860748  </td><td> 0.8222607  </td><td> 0.3228772  </td><td>1.9814633   </td><td> 0.1915002  </td><td>0.1206337   </td><td>...         </td><td> 0.61878986 </td><td>1.1739663   </td><td> 0.3107692  </td><td> 0.21435946 </td><td>11.569677   </td><td>1           </td><td>-0.070461165</td><td>-0.04842728 </td><td> 0.02893682 </td><td>-0.007330753</td></tr>\n",
       "\t<tr><td> 1.0581125  </td><td> 1.83637294 </td><td> 1.28134711 </td><td> 1.95099335 </td><td> 2.1117273  </td><td> 1.5162299  </td><td> 1.1903985  </td><td>2.6089574   </td><td> 1.1034408  </td><td>0.7703308   </td><td>...         </td><td>-0.32767601 </td><td>0.4441376   </td><td> 0.3337583  </td><td> 0.43528673 </td><td>31.206793   </td><td>1           </td><td>-0.170295516</td><td> 0.07283701 </td><td> 0.04054332 </td><td>-0.020246396</td></tr>\n",
       "\t<tr><td> 0.4365846  </td><td> 1.46430543 </td><td> 0.75723534 </td><td> 1.59393501 </td><td> 1.4047144  </td><td> 0.6625449  </td><td> 0.5281878  </td><td>1.8311688   </td><td> 0.8361954  </td><td>0.9370753   </td><td>...         </td><td> 0.16902591 </td><td>0.9010316   </td><td> 0.1224454  </td><td> 0.57227788 </td><td>15.835104   </td><td>1           </td><td>-0.117995465</td><td> 0.04209900 </td><td> 0.10973472 </td><td>-0.004050225</td></tr>\n",
       "\t<tr><td> 0.3370362  </td><td> 1.27335072 </td><td> 0.85899400 </td><td> 1.14445890 </td><td> 1.0956487  </td><td> 0.4145852  </td><td> 0.3415175  </td><td>1.8317050   </td><td> 0.4938670  </td><td>1.2542567   </td><td>...         </td><td> 0.03718500 </td><td>1.0193002   </td><td> 0.2050546  </td><td> 0.07434591 </td><td>12.294316   </td><td>1           </td><td>-0.094719831</td><td> 0.06103178 </td><td> 0.02542602 </td><td> 0.056658361</td></tr>\n",
       "\t<tr><td>-1.0935606  </td><td>-0.04208021 </td><td>-0.06375357 </td><td>-0.02680852 </td><td>-0.2886002  </td><td>-0.6175841  </td><td>-0.8728703  </td><td>0.5218694   </td><td>-0.7432135  </td><td>0.2455381   </td><td>...         </td><td> 0.09446398 </td><td>0.4766140   </td><td>-1.2353549  </td><td>-0.25145304 </td><td>-9.295610   </td><td>1           </td><td> 0.031775643</td><td> 0.10847850 </td><td> 0.06866233 </td><td> 0.099423157</td></tr>\n",
       "\t<tr><td> 0.2791273  </td><td> 0.75162924 </td><td>-0.30528207 </td><td>-0.21112131 </td><td>-0.2949749  </td><td>-0.2916753  </td><td> 0.1386101  </td><td>0.7237688   </td><td> 0.8251524  </td><td>0.4313684   </td><td>...         </td><td> 2.28742993 </td><td>0.6374255   </td><td> 0.4740288  </td><td> 1.31109763 </td><td> 7.697065   </td><td>2           </td><td>-0.003065868</td><td> 0.03813581 </td><td>-0.10388196 </td><td>-0.123825548</td></tr>\n",
       "</tbody>\n",
       "</table>\n"
      ],
      "text/latex": [
       "\\begin{tabular}{r|llllllllllllllllllllllllllllllllllllllllllllllllllllllllllllllllllllllllllllllllllllllllllllllllllllllllllllllllllllllllllllllllllllllllllllllllllllllllllllllllllllllllllllllllllllllllllllllllllllllllllllllllllllllllllllllllllllllllllllllllllllllllllllllllllllllllllllllllllllllllllllllllllllllllllllllllllllllllllllllllllllllllllllllllllllllllllllllllllllllllllllllllllllllllllllllllllllllllllllllllllllll}\n",
       " V1 & V2 & V3 & V4 & V5 & V6 & V7 & V8 & V9 & V10 & ... & V397 & V398 & V399 & V400 & y & patient & PC1 & PC2 & PC3 & PC4\\\\\n",
       "\\hline\n",
       "\t  0.2060153   &  0.64024620  &  0.34032334  &  1.05586322  &  1.5860748   &  0.8222607   &  0.3228772   & 1.9814633    &  0.1915002   & 0.1206337    & ...          &  0.61878986  & 1.1739663    &  0.3107692   &  0.21435946  & 11.569677    & 1            & -0.070461165 & -0.04842728  &  0.02893682  & -0.007330753\\\\\n",
       "\t  1.0581125   &  1.83637294  &  1.28134711  &  1.95099335  &  2.1117273   &  1.5162299   &  1.1903985   & 2.6089574    &  1.1034408   & 0.7703308    & ...          & -0.32767601  & 0.4441376    &  0.3337583   &  0.43528673  & 31.206793    & 1            & -0.170295516 &  0.07283701  &  0.04054332  & -0.020246396\\\\\n",
       "\t  0.4365846   &  1.46430543  &  0.75723534  &  1.59393501  &  1.4047144   &  0.6625449   &  0.5281878   & 1.8311688    &  0.8361954   & 0.9370753    & ...          &  0.16902591  & 0.9010316    &  0.1224454   &  0.57227788  & 15.835104    & 1            & -0.117995465 &  0.04209900  &  0.10973472  & -0.004050225\\\\\n",
       "\t  0.3370362   &  1.27335072  &  0.85899400  &  1.14445890  &  1.0956487   &  0.4145852   &  0.3415175   & 1.8317050    &  0.4938670   & 1.2542567    & ...          &  0.03718500  & 1.0193002    &  0.2050546   &  0.07434591  & 12.294316    & 1            & -0.094719831 &  0.06103178  &  0.02542602  &  0.056658361\\\\\n",
       "\t -1.0935606   & -0.04208021  & -0.06375357  & -0.02680852  & -0.2886002   & -0.6175841   & -0.8728703   & 0.5218694    & -0.7432135   & 0.2455381    & ...          &  0.09446398  & 0.4766140    & -1.2353549   & -0.25145304  & -9.295610    & 1            &  0.031775643 &  0.10847850  &  0.06866233  &  0.099423157\\\\\n",
       "\t  0.2791273   &  0.75162924  & -0.30528207  & -0.21112131  & -0.2949749   & -0.2916753   &  0.1386101   & 0.7237688    &  0.8251524   & 0.4313684    & ...          &  2.28742993  & 0.6374255    &  0.4740288   &  1.31109763  &  7.697065    & 2            & -0.003065868 &  0.03813581  & -0.10388196  & -0.123825548\\\\\n",
       "\\end{tabular}\n"
      ],
      "text/markdown": [
       "\n",
       "| V1 | V2 | V3 | V4 | V5 | V6 | V7 | V8 | V9 | V10 | ... | V397 | V398 | V399 | V400 | y | patient | PC1 | PC2 | PC3 | PC4 |\n",
       "|---|---|---|---|---|---|---|---|---|---|---|---|---|---|---|---|---|---|---|---|---|\n",
       "|  0.2060153   |  0.64024620  |  0.34032334  |  1.05586322  |  1.5860748   |  0.8222607   |  0.3228772   | 1.9814633    |  0.1915002   | 0.1206337    | ...          |  0.61878986  | 1.1739663    |  0.3107692   |  0.21435946  | 11.569677    | 1            | -0.070461165 | -0.04842728  |  0.02893682  | -0.007330753 |\n",
       "|  1.0581125   |  1.83637294  |  1.28134711  |  1.95099335  |  2.1117273   |  1.5162299   |  1.1903985   | 2.6089574    |  1.1034408   | 0.7703308    | ...          | -0.32767601  | 0.4441376    |  0.3337583   |  0.43528673  | 31.206793    | 1            | -0.170295516 |  0.07283701  |  0.04054332  | -0.020246396 |\n",
       "|  0.4365846   |  1.46430543  |  0.75723534  |  1.59393501  |  1.4047144   |  0.6625449   |  0.5281878   | 1.8311688    |  0.8361954   | 0.9370753    | ...          |  0.16902591  | 0.9010316    |  0.1224454   |  0.57227788  | 15.835104    | 1            | -0.117995465 |  0.04209900  |  0.10973472  | -0.004050225 |\n",
       "|  0.3370362   |  1.27335072  |  0.85899400  |  1.14445890  |  1.0956487   |  0.4145852   |  0.3415175   | 1.8317050    |  0.4938670   | 1.2542567    | ...          |  0.03718500  | 1.0193002    |  0.2050546   |  0.07434591  | 12.294316    | 1            | -0.094719831 |  0.06103178  |  0.02542602  |  0.056658361 |\n",
       "| -1.0935606   | -0.04208021  | -0.06375357  | -0.02680852  | -0.2886002   | -0.6175841   | -0.8728703   | 0.5218694    | -0.7432135   | 0.2455381    | ...          |  0.09446398  | 0.4766140    | -1.2353549   | -0.25145304  | -9.295610    | 1            |  0.031775643 |  0.10847850  |  0.06866233  |  0.099423157 |\n",
       "|  0.2791273   |  0.75162924  | -0.30528207  | -0.21112131  | -0.2949749   | -0.2916753   |  0.1386101   | 0.7237688    |  0.8251524   | 0.4313684    | ...          |  2.28742993  | 0.6374255    |  0.4740288   |  1.31109763  |  7.697065    | 2            | -0.003065868 |  0.03813581  | -0.10388196  | -0.123825548 |\n",
       "\n"
      ],
      "text/plain": [
       "  V1         V2          V3          V4          V5         V6        \n",
       "1  0.2060153  0.64024620  0.34032334  1.05586322  1.5860748  0.8222607\n",
       "2  1.0581125  1.83637294  1.28134711  1.95099335  2.1117273  1.5162299\n",
       "3  0.4365846  1.46430543  0.75723534  1.59393501  1.4047144  0.6625449\n",
       "4  0.3370362  1.27335072  0.85899400  1.14445890  1.0956487  0.4145852\n",
       "5 -1.0935606 -0.04208021 -0.06375357 -0.02680852 -0.2886002 -0.6175841\n",
       "6  0.2791273  0.75162924 -0.30528207 -0.21112131 -0.2949749 -0.2916753\n",
       "  V7         V8        V9         V10       ... V397        V398     \n",
       "1  0.3228772 1.9814633  0.1915002 0.1206337 ...  0.61878986 1.1739663\n",
       "2  1.1903985 2.6089574  1.1034408 0.7703308 ... -0.32767601 0.4441376\n",
       "3  0.5281878 1.8311688  0.8361954 0.9370753 ...  0.16902591 0.9010316\n",
       "4  0.3415175 1.8317050  0.4938670 1.2542567 ...  0.03718500 1.0193002\n",
       "5 -0.8728703 0.5218694 -0.7432135 0.2455381 ...  0.09446398 0.4766140\n",
       "6  0.1386101 0.7237688  0.8251524 0.4313684 ...  2.28742993 0.6374255\n",
       "  V399       V400        y         patient PC1          PC2         PC3        \n",
       "1  0.3107692  0.21435946 11.569677 1       -0.070461165 -0.04842728  0.02893682\n",
       "2  0.3337583  0.43528673 31.206793 1       -0.170295516  0.07283701  0.04054332\n",
       "3  0.1224454  0.57227788 15.835104 1       -0.117995465  0.04209900  0.10973472\n",
       "4  0.2050546  0.07434591 12.294316 1       -0.094719831  0.06103178  0.02542602\n",
       "5 -1.2353549 -0.25145304 -9.295610 1        0.031775643  0.10847850  0.06866233\n",
       "6  0.4740288  1.31109763  7.697065 2       -0.003065868  0.03813581 -0.10388196\n",
       "  PC4         \n",
       "1 -0.007330753\n",
       "2 -0.020246396\n",
       "3 -0.004050225\n",
       "4  0.056658361\n",
       "5  0.099423157\n",
       "6 -0.123825548"
      ]
     },
     "metadata": {},
     "output_type": "display_data"
    }
   ],
   "source": [
    "# test data\n",
    "n <- 30 # number of patients; OVERWRITE! n=30 now! \n",
    "T <-  5 # number of observations per patients\n",
    "set.seed(101)\n",
    "data_test <- as.data.frame(sim_3(n, T)) \n",
    "colnames(data_test)[401] <- \"y\"\n",
    "\n",
    "\n",
    "# add patient/cluster information\n",
    "for (i in 1:n){\n",
    "    data_test$patient[(1+(i-1)*T):(i*T)] = rep(i,T)\n",
    "}\n",
    "# add PC\n",
    "data_mat = data_test[,1:400]\n",
    "data_test$PC1 = svd(data_mat[,1:100])$u[,1]  \n",
    "data_test$PC2 = svd(data_mat[,101:200])$u[,1] \n",
    "data_test$PC3 = svd(data_mat[,201:300])$u[,1] \n",
    "data_test$PC4 = svd(data_mat[,301:400])$u[,1] \n",
    "\n",
    "\n",
    "data_test[1:6,]"
   ]
  },
  {
   "cell_type": "code",
   "execution_count": 4,
   "metadata": {},
   "outputs": [],
   "source": [
    "# Methods for extracting names of splitting features used in a tree\n",
    "# tree: a tree object; data: the train or test set\n",
    "# here tree should be lm_tree$tree\n",
    "get_split_names = function(tree,data){\n",
    "    paths <- pre:::list.rules(tree, removecomplements = FALSE)\n",
    "    vnames <- names(data)\n",
    "    return(vnames[sapply(sapply(vnames, FUN = function(x) grep(x, paths)), length) > 0])\n",
    "}"
   ]
  },
  {
   "cell_type": "markdown",
   "metadata": {},
   "source": [
    "# Gtree"
   ]
  },
  {
   "cell_type": "code",
   "execution_count": 11,
   "metadata": {},
   "outputs": [],
   "source": [
    "# regress_var = paste(\"PC\",c(3),sep=\"\")\n",
    "# regress_var = paste(\"PC\",c(1,2,3),sep=\"\")\n",
    "# regress_var = paste(\"V\",c(1,2,3,301,302,303),sep=\"\") # abs correct regressor\n",
    "# regress_var = paste(\"V\",c(1,301,65,305,9,100,101),sep=\"\") # disturbation\n",
    "regress_var = paste(\"V\",c(1,2,3,301,302,303,5,185),sep=\"\") # abs correct regressor\n",
    "# regress_var = paste(\"V\",301:400,sep=\"\") # abs correct regressor\n",
    "\n",
    "\n",
    "# split_var = paste(\"V\",201:300,sep=\"\") # always use all the features to split\n",
    "split_var = paste(\"V\",c(1,2,3,301,302,303,5,185),sep=\"\") # abs correct regressor\n",
    "# split_var = paste(\"V\",c(3,2),sep=\"\")\n",
    "\n",
    "cluster_var = \"patient\"\n",
    "Formula = as.formula(paste(\"y~\",paste(regress_var,collapse = \"+\"),\n",
    "                           \"|\",cluster_var,\"|\",\n",
    "                         paste(split_var,collapse = \"+\")))\n",
    "# mob_control_ = mob_control(maxdepth = 5)"
   ]
  },
  {
   "cell_type": "code",
   "execution_count": 12,
   "metadata": {},
   "outputs": [
    {
     "data": {
      "text/plain": [
       "   user  system elapsed \n",
       "   0.84    0.00    1.03 "
      ]
     },
     "metadata": {},
     "output_type": "display_data"
    },
    {
     "data": {
      "text/html": [
       "11.9455150455417"
      ],
      "text/latex": [
       "11.9455150455417"
      ],
      "text/markdown": [
       "11.9455150455417"
      ],
      "text/plain": [
       "[1] 11.94552"
      ]
     },
     "metadata": {},
     "output_type": "display_data"
    },
    {
     "data": {
      "text/html": [
       "<ol class=list-inline>\n",
       "\t<li>'V3'</li>\n",
       "\t<li>'V30'</li>\n",
       "\t<li>'V303'</li>\n",
       "</ol>\n"
      ],
      "text/latex": [
       "\\begin{enumerate*}\n",
       "\\item 'V3'\n",
       "\\item 'V30'\n",
       "\\item 'V303'\n",
       "\\end{enumerate*}\n"
      ],
      "text/markdown": [
       "1. 'V3'\n",
       "2. 'V30'\n",
       "3. 'V303'\n",
       "\n",
       "\n"
      ],
      "text/plain": [
       "[1] \"V3\"   \"V30\"  \"V303\""
      ]
     },
     "metadata": {},
     "output_type": "display_data"
    },
    {
     "data": {
      "text/html": [
       "<table>\n",
       "<thead><tr><th></th><th scope=col>(Intercept)</th><th scope=col>V1</th><th scope=col>V2</th><th scope=col>V3</th><th scope=col>V301</th><th scope=col>V302</th><th scope=col>V303</th><th scope=col>V5</th><th scope=col>V185</th></tr></thead>\n",
       "<tbody>\n",
       "\t<tr><th scope=row>3</th><td>-0.6569926</td><td>4.160225  </td><td>-0.6952360</td><td>-2.111626 </td><td>5.673148  </td><td>-1.545612 </td><td>1.959435  </td><td> 0.1108023</td><td> 0.0927394</td></tr>\n",
       "\t<tr><th scope=row>4</th><td>-0.5089608</td><td>5.726403  </td><td>-0.6962838</td><td>-2.743484 </td><td>4.418012  </td><td> 6.670330 </td><td>1.272826  </td><td> 0.7110351</td><td> 0.5557941</td></tr>\n",
       "\t<tr><th scope=row>6</th><td>-4.6185567</td><td>4.767361  </td><td> 4.6555828</td><td>10.862575 </td><td>4.656105  </td><td>-1.190742 </td><td>1.622446  </td><td>-0.5899854</td><td>-0.8156271</td></tr>\n",
       "\t<tr><th scope=row>7</th><td>-5.2708310</td><td>4.863080  </td><td> 5.7073376</td><td> 8.934818 </td><td>4.759928  </td><td> 5.825097 </td><td>3.070134  </td><td> 0.5969978</td><td> 0.1222523</td></tr>\n",
       "</tbody>\n",
       "</table>\n"
      ],
      "text/latex": [
       "\\begin{tabular}{r|lllllllll}\n",
       "  & (Intercept) & V1 & V2 & V3 & V301 & V302 & V303 & V5 & V185\\\\\n",
       "\\hline\n",
       "\t3 & -0.6569926 & 4.160225   & -0.6952360 & -2.111626  & 5.673148   & -1.545612  & 1.959435   &  0.1108023 &  0.0927394\\\\\n",
       "\t4 & -0.5089608 & 5.726403   & -0.6962838 & -2.743484  & 4.418012   &  6.670330  & 1.272826   &  0.7110351 &  0.5557941\\\\\n",
       "\t6 & -4.6185567 & 4.767361   &  4.6555828 & 10.862575  & 4.656105   & -1.190742  & 1.622446   & -0.5899854 & -0.8156271\\\\\n",
       "\t7 & -5.2708310 & 4.863080   &  5.7073376 &  8.934818  & 4.759928   &  5.825097  & 3.070134   &  0.5969978 &  0.1222523\\\\\n",
       "\\end{tabular}\n"
      ],
      "text/markdown": [
       "\n",
       "| <!--/--> | (Intercept) | V1 | V2 | V3 | V301 | V302 | V303 | V5 | V185 |\n",
       "|---|---|---|---|---|---|---|---|---|---|\n",
       "| 3 | -0.6569926 | 4.160225   | -0.6952360 | -2.111626  | 5.673148   | -1.545612  | 1.959435   |  0.1108023 |  0.0927394 |\n",
       "| 4 | -0.5089608 | 5.726403   | -0.6962838 | -2.743484  | 4.418012   |  6.670330  | 1.272826   |  0.7110351 |  0.5557941 |\n",
       "| 6 | -4.6185567 | 4.767361   |  4.6555828 | 10.862575  | 4.656105   | -1.190742  | 1.622446   | -0.5899854 | -0.8156271 |\n",
       "| 7 | -5.2708310 | 4.863080   |  5.7073376 |  8.934818  | 4.759928   |  5.825097  | 3.070134   |  0.5969978 |  0.1222523 |\n",
       "\n"
      ],
      "text/plain": [
       "  (Intercept) V1       V2         V3        V301     V302      V303    \n",
       "3 -0.6569926  4.160225 -0.6952360 -2.111626 5.673148 -1.545612 1.959435\n",
       "4 -0.5089608  5.726403 -0.6962838 -2.743484 4.418012  6.670330 1.272826\n",
       "6 -4.6185567  4.767361  4.6555828 10.862575 4.656105 -1.190742 1.622446\n",
       "7 -5.2708310  4.863080  5.7073376  8.934818 4.759928  5.825097 3.070134\n",
       "  V5         V185      \n",
       "3  0.1108023  0.0927394\n",
       "4  0.7110351  0.5557941\n",
       "6 -0.5899854 -0.8156271\n",
       "7  0.5969978  0.1222523"
      ]
     },
     "metadata": {},
     "output_type": "display_data"
    },
    {
     "data": {
      "image/png": "[encoded data removed]",
      "text/plain": [
       "plot without title"
      ]
     },
     "metadata": {},
     "output_type": "display_data"
    }
   ],
   "source": [
    "system.time({\n",
    "    lmm_tree <- lmertree(Formula, data = data,alpha=0.2) # you can change alpha = 0.2\n",
    "})\n",
    "# mean square error on test data\n",
    "sum((predict(lmm_tree,newdata=data_test,re.form=NA)-data_test$y)**2)/(n*T)\n",
    "\n",
    "# the selected features\n",
    "get_split_names(lmm_tree$tree,data)\n",
    "\n",
    "coef(lmm_tree)\n",
    "plot(lmm_tree,which=\"tree\",main = \"glmertree\")"
   ]
  },
  {
   "cell_type": "markdown",
   "metadata": {},
   "source": [
    "# PCA TEST"
   ]
  },
  {
   "cell_type": "code",
   "execution_count": 53,
   "metadata": {},
   "outputs": [
    {
     "data": {
      "text/html": [
       "<table>\n",
       "<tbody>\n",
       "\t<tr><td>1</td><td>1</td><td>1</td><td>1</td></tr>\n",
       "\t<tr><td>1</td><td>1</td><td>1</td><td>1</td></tr>\n",
       "\t<tr><td>1</td><td>1</td><td>1</td><td>1</td></tr>\n",
       "</tbody>\n",
       "</table>\n"
      ],
      "text/latex": [
       "\\begin{tabular}{llll}\n",
       "\t 1 & 1 & 1 & 1\\\\\n",
       "\t 1 & 1 & 1 & 1\\\\\n",
       "\t 1 & 1 & 1 & 1\\\\\n",
       "\\end{tabular}\n"
      ],
      "text/markdown": [
       "\n",
       "| 1 | 1 | 1 | 1 |\n",
       "| 1 | 1 | 1 | 1 |\n",
       "| 1 | 1 | 1 | 1 |\n",
       "\n"
      ],
      "text/plain": [
       "     [,1] [,2] [,3] [,4]\n",
       "[1,] 1    1    1    1   \n",
       "[2,] 1    1    1    1   \n",
       "[3,] 1    1    1    1   "
      ]
     },
     "metadata": {},
     "output_type": "display_data"
    },
    {
     "data": {
      "text/html": [
       "<table>\n",
       "<tbody>\n",
       "\t<tr><td>4</td><td>4</td><td>4</td></tr>\n",
       "\t<tr><td>4</td><td>4</td><td>4</td></tr>\n",
       "\t<tr><td>4</td><td>4</td><td>4</td></tr>\n",
       "</tbody>\n",
       "</table>\n"
      ],
      "text/latex": [
       "\\begin{tabular}{lll}\n",
       "\t 4 & 4 & 4\\\\\n",
       "\t 4 & 4 & 4\\\\\n",
       "\t 4 & 4 & 4\\\\\n",
       "\\end{tabular}\n"
      ],
      "text/markdown": [
       "\n",
       "| 4 | 4 | 4 |\n",
       "| 4 | 4 | 4 |\n",
       "| 4 | 4 | 4 |\n",
       "\n"
      ],
      "text/plain": [
       "     [,1] [,2] [,3]\n",
       "[1,] 4    4    4   \n",
       "[2,] 4    4    4   \n",
       "[3,] 4    4    4   "
      ]
     },
     "metadata": {},
     "output_type": "display_data"
    }
   ],
   "source": [
    "X = matrix(rep(1,12),3,4)\n",
    "# X = data.frame(X)\n",
    "X\n",
    "A = X%*%t(X)\n",
    "A"
   ]
  },
  {
   "cell_type": "code",
   "execution_count": 54,
   "metadata": {},
   "outputs": [
    {
     "data": {
      "text/plain": [
       "eigen() decomposition\n",
       "$values\n",
       "[1] 1.200000e+01 3.552714e-15 0.000000e+00\n",
       "\n",
       "$vectors\n",
       "           [,1]       [,2]       [,3]\n",
       "[1,] -0.5773503  0.8164966  0.0000000\n",
       "[2,] -0.5773503 -0.4082483 -0.7071068\n",
       "[3,] -0.5773503 -0.4082483  0.7071068\n"
      ]
     },
     "metadata": {},
     "output_type": "display_data"
    }
   ],
   "source": [
    "ev <- eigen(A)\n",
    "ev"
   ]
  },
  {
   "cell_type": "code",
   "execution_count": 58,
   "metadata": {},
   "outputs": [
    {
     "data": {
      "text/html": [
       "<ol class=list-inline>\n",
       "\t<li>-0.577350269189626</li>\n",
       "\t<li>-0.577350269189626</li>\n",
       "\t<li>-0.577350269189626</li>\n",
       "</ol>\n"
      ],
      "text/latex": [
       "\\begin{enumerate*}\n",
       "\\item -0.577350269189626\n",
       "\\item -0.577350269189626\n",
       "\\item -0.577350269189626\n",
       "\\end{enumerate*}\n"
      ],
      "text/markdown": [
       "1. -0.577350269189626\n",
       "2. -0.577350269189626\n",
       "3. -0.577350269189626\n",
       "\n",
       "\n"
      ],
      "text/plain": [
       "[1] -0.5773503 -0.5773503 -0.5773503"
      ]
     },
     "metadata": {},
     "output_type": "display_data"
    }
   ],
   "source": [
    "ev$vector[,1] # first PC"
   ]
  },
  {
   "cell_type": "code",
   "execution_count": 66,
   "metadata": {},
   "outputs": [
    {
     "data": {
      "text/html": [
       "<ol class=list-inline>\n",
       "\t<li>-0.577350269189626</li>\n",
       "\t<li>-0.577350269189626</li>\n",
       "\t<li>-0.577350269189626</li>\n",
       "</ol>\n"
      ],
      "text/latex": [
       "\\begin{enumerate*}\n",
       "\\item -0.577350269189626\n",
       "\\item -0.577350269189626\n",
       "\\item -0.577350269189626\n",
       "\\end{enumerate*}\n"
      ],
      "text/markdown": [
       "1. -0.577350269189626\n",
       "2. -0.577350269189626\n",
       "3. -0.577350269189626\n",
       "\n",
       "\n"
      ],
      "text/plain": [
       "[1] -0.5773503 -0.5773503 -0.5773503"
      ]
     },
     "metadata": {},
     "output_type": "display_data"
    }
   ],
   "source": [
    "svd(X)$u[,1] # or use this directly"
   ]
  },
  {
   "cell_type": "code",
   "execution_count": 51,
   "metadata": {},
   "outputs": [
    {
     "data": {
      "text/plain": [
       "Standard deviations (1, .., p=3):\n",
       "[1] 0 0 0\n",
       "\n",
       "Rotation (n x k) = (3 x 3):\n",
       "     PC1 PC2 PC3\n",
       "[1,]   1   0   0\n",
       "[2,]   0   1   0\n",
       "[3,]   0   0   1"
      ]
     },
     "metadata": {},
     "output_type": "display_data"
    }
   ],
   "source": [
    "# PCA but i don't get it\n",
    "prcomp(t(X))"
   ]
  }
 ],
 "metadata": {
  "kernelspec": {
   "display_name": "R",
   "language": "R",
   "name": "ir"
  },
  "language_info": {
   "codemirror_mode": "r",
   "file_extension": ".r",
   "mimetype": "text/x-r-source",
   "name": "R",
   "pygments_lexer": "r",
   "version": "3.6.0"
  }
 },
 "nbformat": 4,
 "nbformat_minor": 2
}
